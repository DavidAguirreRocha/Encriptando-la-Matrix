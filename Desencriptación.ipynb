{
 "cells": [
  {
   "cell_type": "markdown",
   "metadata": {},
   "source": [
    "## Taller matemáticas y modelación"
   ]
  },
  {
   "cell_type": "markdown",
   "metadata": {},
   "source": [
    "El propósito de este Notebook es mostrar detalladamente el desarrollo de dos códigos de encriptación y desencriptación\n",
    "respectivamente con el fin de afianzar los conceptos dados en el taller de matemáticas y modelación."
   ]
  },
  {
   "cell_type": "markdown",
   "metadata": {},
   "source": [
    "# Código de desencriptación"
   ]
  },
  {
   "cell_type": "markdown",
   "metadata": {},
   "source": [
    "Se recomienda haber leído el Notebook Encriptación.ipynb pues se utilizará la misma convención explicada allí y se harán procedimientos análogos que allí se explicaron con mayor detalle."
   ]
  },
  {
   "cell_type": "code",
   "execution_count": 1,
   "metadata": {},
   "outputs": [],
   "source": [
    "import numpy as np\n",
    "import sys"
   ]
  },
  {
   "cell_type": "markdown",
   "metadata": {},
   "source": [
    "Utilizaremos las mismas librerías que el código de encriptación. *Numpy* para manejar los arreglos mucho más sencillo y *sys* para ejecutar ciertas salidas del sistema."
   ]
  },
  {
   "cell_type": "markdown",
   "metadata": {},
   "source": [
    "Se debe poner como valor de entrada exactamente la salida del código anterior, o bien los números encriptados separados por espacios sin incluir espacios al inicio ni al final. Es importante seguir esta nomenclatura rigurosamente por cómo está construído el código."
   ]
  },
  {
   "cell_type": "code",
   "execution_count": 2,
   "metadata": {},
   "outputs": [],
   "source": [
    "crip = \"74 16 105 21 117 26 219 46\" "
   ]
  },
  {
   "cell_type": "markdown",
   "metadata": {},
   "source": [
    "Se almacena el mensaje encriptado en la variable *crip*. "
   ]
  },
  {
   "cell_type": "code",
   "execution_count": 3,
   "metadata": {},
   "outputs": [],
   "source": [
    "cont = 0\n",
    "result = []\n",
    "number = 0\n",
    "crips = []"
   ]
  },
  {
   "cell_type": "markdown",
   "metadata": {},
   "source": [
    "En este pequeño bloque de código se inician variables que posteriormente utilizaremos. Más adelante se explicará la función de cada una de ellas a medida que se requieran en el código."
   ]
  },
  {
   "cell_type": "code",
   "execution_count": 4,
   "metadata": {},
   "outputs": [],
   "source": [
    "A = np.array([[9,5],[2,1]]) #Matriz de transformación (debe ser invertible)\n",
    "B = np.linalg.inv(A) #Matriz inversa"
   ]
  },
  {
   "cell_type": "markdown",
   "metadata": {},
   "source": [
    "Se define la matriz de transformación así como su inversa (matriz de desencriptación) y deben ser exactamente las mismas que las utilizadas en el código de encriptación."
   ]
  },
  {
   "cell_type": "markdown",
   "metadata": {},
   "source": [
    "# Bloque 1"
   ]
  },
  {
   "cell_type": "code",
   "execution_count": 5,
   "metadata": {},
   "outputs": [],
   "source": [
    "for c in crip:\n",
    "    if ((c.isspace() == False)) and (cont + 1 != len(crip)): #Convertir entrada de texto a arreglo numérico\n",
    "        result.append(int(c))\n",
    "        cont = cont + 1\n",
    "    elif (cont + 1 == len(crip)):\n",
    "        result.append(int(c))\n",
    "        for k in range(np.size(result)):\n",
    "            k2 = np.size(result) - k -1\n",
    "            number = number + (10**k2)*result[k] \n",
    "        crips.append(number)\n",
    "        number = 0;\n",
    "        result = []\n",
    "        cont = cont + 1\n",
    "    else: #No estoy en última posición y hay espacio\n",
    "        for k in range(np.size(result)):\n",
    "            k2 = np.size(result) - k -1\n",
    "            number = number + (10**k2)*result[k] \n",
    "        crips.append(number)\n",
    "        #print(number)\n",
    "        number = 0;\n",
    "        result = []\n",
    "        cont = cont + 1"
   ]
  },
  {
   "cell_type": "markdown",
   "metadata": {},
   "source": [
    "En el bloque 1 se busca principalmente convertir la entrada de texto a entrada numérica para poder operarla. Nótese que la variable *crip* está definida como un arreglo de texto.\n",
    "Ahora bien, antes de explicar lo que está el código es pertinente es explicar lo que se quiere hacer inicialmente. \n",
    "\n",
    "Se busca ir almacenando los números leídos en un arreglo numérico y parar este almacenamiento al leer un espacio. Estos números se almacenan en la variable result. Por ejemplo, el primer número es 74 entonces el programa inicialmente creará un arreglo numérico [7,4]. Luego a partir del orden de almacenamiento y la cantidad de números almacenados se buscará determinar sí es una unidad, décima o una centena. En este caso el 7 es una décima y el 4 es una unidad así que el programa hará la siguiente operación:\n",
    "\n",
    "$$70\\cdot10^1+4\\cdot10^0 = 74$$\n",
    "\n",
    "Posteriormente, hará lo mismo con todos los números hasta acabar de leer el arreglo. Recordar que el programa decide cuando parar y calcular un número tan pronto lee el carácter espacio por eso es importante seguir rigurosamente la nomenclatura de la entrada. \n",
    "\n",
    "Se utilizó un contador mediante la variable *cont* para identificar en que posición de la entrada de texto se encuentra el programa, por ejemplo de la siguiente entrada \"12 13 14 15\" el número 3 corresponde a la posición 4 (incluyendo el 0 como carácter inicial) del arreglo.\n",
    "\n",
    "Entendiendo el funcionamiento esperado ahora se busca explicar lo realizado en el código. El primer condicional if revisa si el carácter leído es **diferente** a el carácter espacio y además **no** es el último carácter del arreglo numérico. Nótese que estos son criterios de parada para proceder a calcular los números. Es decir que por este condicional se almacenarán los números utilizando *result.append(int(c))* que almacena el carácter en el arreglo result y finalmente se añade una unidad al contador haciendo referencia a que se avanzó de posición.\n",
    "\n",
    "El segundo condicional es para identificar cuando el programa se encuentre en el último carácter del arreglo *crip* de ser así, almacenará ese último número en el arreglo *result* para proceder a calcularlo. Hay otro pequeño bloque de código para realizar la operación entre los números almacenados en *result* pero se explicará en el siguiente inciso pues está repetido en el último condicional.\n",
    "\n",
    "En el último condicional (*else*) se realiza el cálculo del número de acuerdo a los valores que se han almacenado en el arreglo *result* se recorre el arreglo utilizando la variable *k* y con la variable *k2* se asigna el peso del número (unidad, décima o centena). Por ejemplo, para el número 105, este estará almacenado en *result* como [1, 0, 5] y lo recorrerá de tal forma que se realiza la siguiente operación:\n",
    "$$1\\cdot 10^2 + 0\\cdot 10^1 + 5\\cdot 10^0 = 105$$\n",
    "Nótese que *k* es ascendente y *k2* es descendente pues el primero recorre la posición del arreglo y *k2* es el exponente. Después de realizar estos cálculos el programa almacena el resultado *number* en el arreglo *crips* donde se almacenan los números encriptados en formato numéricos listo para realizar los cálculos posteriores.\n",
    "\n"
   ]
  },
  {
   "cell_type": "markdown",
   "metadata": {},
   "source": [
    "# Bloque 2"
   ]
  },
  {
   "cell_type": "code",
   "execution_count": 6,
   "metadata": {},
   "outputs": [],
   "source": [
    "normalnum = []\n",
    "output = \"\"  \n",
    "for i in range(0,np.size(crips)-1,2): #Desencriptación del mensaje \n",
    "    mult = np.array([[crips[i]],[crips[i+1]]])\n",
    "    result = np.matmul(B, mult)\n",
    "    result1 = int(round(result[0][0]))\n",
    "    result2 = int(round(result[1][0]))\n",
    "    normalnum.append(result1)\n",
    "    normalnum.append(result2)"
   ]
  },
  {
   "cell_type": "markdown",
   "metadata": {},
   "source": [
    "En este bloque 2 se hace lo mismo que en el bloque 4 del código de encriptación donde se ordena el mensaje por parejas y en este caso se multiplica la matriz B (matriz inversa de la matriz de transformación A) precisamente para desencriptar el mensaje de acuerdo al proceso visto en el taller y guarda el mensaje desencriptado numérico en el arreglo *normalnum*."
   ]
  },
  {
   "cell_type": "markdown",
   "metadata": {},
   "source": [
    "# Bloque 3"
   ]
  },
  {
   "cell_type": "code",
   "execution_count": 7,
   "metadata": {},
   "outputs": [],
   "source": [
    "outputs = \"\"\n",
    "for j in range(np.size(normalnum)): #Conversión de nomenclatura numérica 1 a 26 al alfabeto.4\n",
    "    if (normalnum[j] > 26 or normalnum[j]<0):\n",
    "        sys.exit(\"Hay un error en la encriptación. Revisar entrada y matriz.\")\n",
    "    elif (normalnum[j] < 14):\n",
    "        outputs = outputs + chr(normalnum[j]+97)\n",
    "    elif (normalnum)[j] == 14:\n",
    "        outputs = outputs + \"ñ\"\n",
    "    else:\n",
    "        outputs = outputs + chr(normalnum[j]+96)"
   ]
  },
  {
   "cell_type": "markdown",
   "metadata": {},
   "source": [
    "Finalmente en el bloque 3, ya teniendo el arreglo *normalnum* se busca escribir el mensaje numérico en letras alfabéticas otra vez de acuerdo a la nomenclatura explicada en el Notebook de encriptación.\n",
    "\n",
    "En el primer condicional se busca determinar si alguno de los números es mayor a 26 o menor a 0 quiere decir que hay un error en la entrada de los datos pues no es posible que haya un número fuera de rango del alfabeto dado. El error puede depender de diversos factores como la entrada del arreglo *crip*, puede ser por un espacio al principio al final de la entrada o un número encripatdo érroneo. Por otro lado puede ser que la matriz de encriptación esté mal. Por eso se para el código y se pide revisar estas variables pues están dadas por las entradas del usuario.\n",
    "\n",
    "Luego se determinan mediante 3 codicionales, las letras antes de la ñ, la ñ y las letras que están después de la ñ de acuerdo a la nomenclatura dada en el notebook anterior.\n",
    "\n",
    "Finalmente se escribe cada una de las letras en el arreglo *outputs* y se almacenan en cada iteración."
   ]
  },
  {
   "cell_type": "code",
   "execution_count": 8,
   "metadata": {},
   "outputs": [
    {
     "name": "stdout",
     "output_type": "stream",
     "text": [
      "El mensaje 74 16 105 21 117 26 219 46 desencriptado es:\n",
      "geaunalx\n"
     ]
    }
   ],
   "source": [
    "print(\"El mensaje \"+ crip + \" desencriptado es:\")        \n",
    "print(outputs) #Mensaje desencriptado."
   ]
  },
  {
   "cell_type": "markdown",
   "metadata": {},
   "source": [
    "Por último se escribió como salida el mensaje desencriptado."
   ]
  },
  {
   "cell_type": "code",
   "execution_count": null,
   "metadata": {},
   "outputs": [],
   "source": []
  }
 ],
 "metadata": {
  "kernelspec": {
   "display_name": "Python 3",
   "language": "python",
   "name": "python3"
  },
  "language_info": {
   "codemirror_mode": {
    "name": "ipython",
    "version": 3
   },
   "file_extension": ".py",
   "mimetype": "text/x-python",
   "name": "python",
   "nbconvert_exporter": "python",
   "pygments_lexer": "ipython3",
   "version": "3.8.5"
  }
 },
 "nbformat": 4,
 "nbformat_minor": 4
}
