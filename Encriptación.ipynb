{
 "cells": [
  {
   "cell_type": "markdown",
   "metadata": {},
   "source": [
    "## Taller matemáticas y modelación"
   ]
  },
  {
   "cell_type": "markdown",
   "metadata": {},
   "source": [
    "El propósito de este Notebook es mostrar detalladamente el desarrollo de dos códigos de encriptación y desencriptación\n",
    "respectivamente con el fin de afianzar los conceptos dados en el taller de matemáticas y modelación."
   ]
  },
  {
   "cell_type": "markdown",
   "metadata": {},
   "source": [
    "# Código de encriptación"
   ]
  },
  {
   "cell_type": "markdown",
   "metadata": {},
   "source": [
    "En primer lugar debemos seleccionar un mensaje de texto a encriptar. Para el caso de este código omitiremos carácteres especiales y utilizaremos únicamente las letras minúsculas del abecedario en inglés. Hay que resaltar, que es posible utilizar carácteres especiales, símbolos o mayúsculas pero para ello habría que definir una convención mucho más amplia. Por fines prácticos utilizaremos la siguiente convención:"
   ]
  },
  {
   "cell_type": "markdown",
   "metadata": {},
   "source": [
    "| A \t| B \t| C \t| D \t| E \t| F \t| G \t| H \t| I \t| J \t| K  \t| L  \t| M  \t| N  \t| Ñ  \t| O  \t| P  \t| Q  \t| R  \t| S  \t| T  \t| U  \t| V  \t| W  \t| X  \t| Y  \t| Z  \t|\n",
    "|---\t|---\t|---\t|---\t|---\t|---\t|---\t|---\t|---\t|---\t|----\t|----\t|----\t|----\t|----\t|----\t|----\t|----\t|----\t|----\t|----\t|----\t|----\t|----\t|----\t|----\t|----\t|\n",
    "| 0 \t| 1 \t| 2 \t| 3 \t| 4 \t| 5 \t| 6 \t| 7 \t| 8 \t| 9 \t| 10 \t| 11 \t| 12 \t| 13 \t| 14 \t| 15 \t| 16 \t| 17 \t| 18 \t| 19 \t| 20 \t| 21 \t| 22 \t| 23 \t| 24 \t| 25 \t| 26 \t|"
   ]
  },
  {
   "cell_type": "code",
   "execution_count": 1,
   "metadata": {},
   "outputs": [],
   "source": [
    "import numpy as np "
   ]
  },
  {
   "cell_type": "markdown",
   "metadata": {},
   "source": [
    "Se utilizará la librería numpy que entre otras cosas, facilita la manipulación de arreglos (variables matriciales)."
   ]
  },
  {
   "cell_type": "code",
   "execution_count": 2,
   "metadata": {},
   "outputs": [],
   "source": [
    "import sys "
   ]
  },
  {
   "cell_type": "markdown",
   "metadata": {},
   "source": [
    "También la librería sys que permite detener el código cuando haya errores de entrada."
   ]
  },
  {
   "cell_type": "markdown",
   "metadata": {},
   "source": [
    "Ahora bien, como ejemplificación se utilizará la frase \"gea unal\". Para ello se crea la variable *letters* tipo string (texto) que almacene la entrada del usuario."
   ]
  },
  {
   "cell_type": "code",
   "execution_count": 3,
   "metadata": {},
   "outputs": [],
   "source": [
    "letters = \"geaunal\""
   ]
  },
  {
   "cell_type": "markdown",
   "metadata": {},
   "source": [
    "Nótese que la frase solamente debe estar conformada por los carácteres de la tabla mostrada al inicio y sin espacio entre los carácteres."
   ]
  },
  {
   "cell_type": "markdown",
   "metadata": {},
   "source": [
    "# Bloque 1"
   ]
  },
  {
   "cell_type": "code",
   "execution_count": 4,
   "metadata": {},
   "outputs": [],
   "source": [
    "letters = \"geaunal\" \n",
    "if len(letters)%2 != 0:\n",
    "    letters = letters +\"x\"\n",
    "else:\n",
    "    pass"
   ]
  },
  {
   "cell_type": "markdown",
   "metadata": {},
   "source": [
    "El el bloque 1 tiene como función asegurar que la frase tenga un número par de carácteres, de no ser así (número impar de carácteres) se añade una x al mensaje al final. Para nuestro ejemplo la frase pasaría de ser *geaunal* a *geaunalx*."
   ]
  },
  {
   "cell_type": "markdown",
   "metadata": {},
   "source": [
    "# Bloque 2"
   ]
  },
  {
   "cell_type": "code",
   "execution_count": 5,
   "metadata": {},
   "outputs": [],
   "source": [
    "numbers = []  \n",
    "for letter in letters:\n",
    "    if (ord(letter)-97) <= 13 and (ord(letter)-97) >= 0:\n",
    "          number = ord(letter) - 97\n",
    "    elif ord(letter) == 241:\n",
    "          number = 14\n",
    "    else:\n",
    "          if (ord(letter)) == 32:\n",
    "              sys.exit(\"El espacio entre caracteres no es válido.\")\n",
    "          elif (ord(letter)-97) > 26 or ((ord(letter)-97) < 0):\n",
    "              error = \"El carácter '\" + letter + \"' no es válido.\"\n",
    "              sys.exit(error);\n",
    "          else:\n",
    "              number = ord(letter) - 96\n",
    "    numbers.append(number)"
   ]
  },
  {
   "cell_type": "markdown",
   "metadata": {},
   "source": [
    "Para el bloque 2: Se define el arreglo numbers donde se almacenarán los carácteres convertidos en números de acuerdo a la convención dada inicialmente. Pero no le asignamos tamaño, pues dependerá del texto que se seleccione. Luego, se inicia un for que recorre toda la variable *letters* carácter por carácter y a medida que recorre almacena el carácter temporalmente en la variable *letter*. \n",
    "\n",
    "Para converitir los carácteres en texto se utiliza la función ord() que convierte los carácteres a letras de acuerdo a la nomenclatura de unicode. En esta nomenclatura el abecedario en inglés de la *a* a la *z* va de 97 a 122 sin incluir la ñ (26 carácteres). Para nuestra convención es necesario añadir la *ñ* después de la *n* y corregir los números del 0 al 26 (27 caractéres). Esto se hace en el bloque 2.\n",
    "\n",
    "En el primer condicional if comprueba si el carácter se encuentra entre la A(0) o la n (13) y en ese caso traslada el carácter de 97 a 110 de 0 a 13 (resta de 97 de la función ord() )de acuerdo a nuestra nomenclatura.\n",
    "\n",
    "En el segundo condicional comprueba si el carácter entrado es la *ñ* que en la nomenclatura de unicode es el número 241. De ser así le asigna el número 14 (nuestra nomenclatura).\n",
    "\n",
    "Finalmente, los carácteres restantes serán los que van desde la *o* hasta la *z* y todo el resto de carácteres no válidos (letras mayúsculas, letras con tildes, símbolos, etc). Para ello se crea una última cadena de condicionales.\n",
    "\n",
    "Primero se identifica el carácter espacio (32 en unicode) y si se encuentra el código se detiene mediante la función sys.exit() y describe que el error se debe a que se introdujo un carácter inválido.\n",
    "\n",
    "De igual manera se hace si el carácter es cualquier otro distinto a nuestra nomenclatura e igualmente detiene el código e identifica cuál es el carácter inválido.\n",
    "\n",
    "Por último, a los caractéres de la *o*(15) a la *z*(26) se les asigna el valor de nuestra nomenclatura restándole 96 (nótese que era 97 pero al añadir la ñ es necesario trasladarlos).\n",
    "\n",
    "Al final del boque, el valor númerico del carácter almacenado en la variable *number* se almacena en el arreglo de todos los demás números almacenados *numbers*.\n"
   ]
  },
  {
   "cell_type": "markdown",
   "metadata": {},
   "source": [
    "# Bloque 3"
   ]
  },
  {
   "cell_type": "code",
   "execution_count": 6,
   "metadata": {},
   "outputs": [],
   "source": [
    "A = np.array([[9,5],[2,1]]) #Matriz de transformación (debe ser invertible) \n",
    "B = np.linalg.inv(A) #Matriz inversa de A"
   ]
  },
  {
   "cell_type": "markdown",
   "metadata": {},
   "source": [
    "Ahora se define la matriz correspondiente a la llave de encriptación (A) e inmediatamente se calcula su inversa (B) utilizando la función linalg.inv de la librería numpy. Nótese que A debe ser invertible. "
   ]
  },
  {
   "cell_type": "markdown",
   "metadata": {},
   "source": [
    "# Bloque 4"
   ]
  },
  {
   "cell_type": "code",
   "execution_count": 7,
   "metadata": {},
   "outputs": [],
   "source": [
    "output = \"\" \n",
    "numberscrip = []\n",
    "for i in range(0,np.size(numbers)-1,2): #Encriptación del mensaje codificado.\n",
    "    mult = np.array([[numbers[i]],[numbers[i+1]]])\n",
    "    result = np.matmul(A, mult)\n",
    "    result1 = result[0][0]\n",
    "    result2 = result[1][0]\n",
    "    numberscrip.append(result1)\n",
    "    numberscrip.append(result2)\n",
    "    output = output + str(result1) + \" \" + str(result2) + \" \" #Acoplación textual del mensaje encriptado."
   ]
  },
  {
   "cell_type": "markdown",
   "metadata": {},
   "source": [
    "En el bloque 4 se busca encriptar el mensaje númerico almacenado en *numbers* y obtener un mensaje numérico encriptado en la variable *numberscrip*.\n",
    "\n",
    "Primero se utiliza un for que recorrerá todo el arreglo *numbers* por parejas. Por ejemplo si el arreglo es (6 ,4, 0 , 21) almacenará las parejas en distintos vectores columnas es decir [6, 4] y [0, 21].\n",
    "\n",
    "Luego, mediante la función np.matmul() se multiplica la llave de encriptación con cada una de las parejas dejándolas encriptadas. \n",
    "\n",
    "Finalmente, se almacenan estos valores encriptados individualmente en las variables *result1* (primer número de la pareja) y *result2* (segundo número de la pareja) y se escriben de forma de vector fila nuevamente en el arreglo *numberscrip*. La variable *output* es simplemente para mostrar la salida como formato de texto a diferencia de la variable *numberscrip* que contiene la información en valores numéricos."
   ]
  },
  {
   "cell_type": "code",
   "execution_count": 8,
   "metadata": {},
   "outputs": [
    {
     "name": "stdout",
     "output_type": "stream",
     "text": [
      "El mensaje geaunalx encriptado es:\n",
      "74 16 105 21 117 26 219 46 \n"
     ]
    }
   ],
   "source": [
    "print(\"El mensaje \"+ letters + \" encriptado es:\")\n",
    "print(output) #Mensaje final para copar directamente en código de desencriptación."
   ]
  },
  {
   "cell_type": "code",
   "execution_count": null,
   "metadata": {},
   "outputs": [],
   "source": []
  }
 ],
 "metadata": {
  "kernelspec": {
   "display_name": "Python 3",
   "language": "python",
   "name": "python3"
  },
  "language_info": {
   "codemirror_mode": {
    "name": "ipython",
    "version": 3
   },
   "file_extension": ".py",
   "mimetype": "text/x-python",
   "name": "python",
   "nbconvert_exporter": "python",
   "pygments_lexer": "ipython3",
   "version": "3.8.5"
  }
 },
 "nbformat": 4,
 "nbformat_minor": 4
}
